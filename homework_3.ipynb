{
  "metadata": {
    "kernelspec": {
      "name": "xpython",
      "display_name": "Python 3.13 (XPython)",
      "language": "python"
    },
    "language_info": {
      "file_extension": ".py",
      "mimetype": "text/x-python",
      "name": "python",
      "version": "3.13.1"
    }
  },
  "nbformat_minor": 5,
  "nbformat": 4,
  "cells": [
    {
      "id": "b6c33c85-e4fc-40e2-831f-ae53ae7bf840",
      "cell_type": "code",
      "source": "#bài1\nfor i in range(1, 100, 2):\n    print(i, end=\" \")",
      "metadata": {
        "trusted": true
      },
      "outputs": [
        {
          "name": "stdout",
          "output_type": "stream",
          "text": "1 3 5 7 9 11 13 15 17 19 21 23 25 27 29 31 33 35 37 39 41 43 45 47 49 51 53 55 57 59 61 63 65 67 69 71 73 75 77 79 81 83 85 87 89 91 93 95 97 99 "
        }
      ],
      "execution_count": 1
    },
    {
      "id": "d0e6d2a1-218a-4270-b31b-679518a21bff",
      "cell_type": "code",
      "source": "#bài 2\nfor i in range(2, 100, 2):\n    if i % 3 == 0:\n        print(i, end=\" \")",
      "metadata": {
        "trusted": true
      },
      "outputs": [
        {
          "name": "stdout",
          "output_type": "stream",
          "text": "6 12 18 24 30 36 42 48 54 60 66 72 78 84 90 96 "
        }
      ],
      "execution_count": 2
    },
    {
      "id": "4d8ce62d-2ba1-4b53-b1ca-3cedf6bc34b6",
      "cell_type": "code",
      "source": "#bài 3\na = int(input(\"Nhập số nguyên dương a: \"))\nfor i in range(1, 11):\n    print(f\"{a} x {i} = {a * i}\")",
      "metadata": {
        "trusted": true
      },
      "outputs": [
        {
          "output_type": "stream",
          "name": "stdin",
          "text": "Nhập số nguyên dương a:  6\n"
        },
        {
          "name": "stdout",
          "output_type": "stream",
          "text": "6 x 1 = 6\n6 x 2 = 12\n6 x 3 = 18\n6 x 4 = 24\n6 x 5 = 30\n6 x 6 = 36\n6 x 7 = 42\n6 x 8 = 48\n6 x 9 = 54\n6 x 10 = 60\n"
        }
      ],
      "execution_count": 3
    },
    {
      "id": "2402271c-e6c2-40b2-b29f-b9928068904d",
      "cell_type": "code",
      "source": "#bài 4\nh = int(input(\"Nhập chiều cao h: \"))\nfor i in range(1, h + 1):\n    print(\" \" * (h - i) + \"*\" * (2 * i - 1))",
      "metadata": {
        "trusted": true
      },
      "outputs": [
        {
          "output_type": "stream",
          "name": "stdin",
          "text": "Nhập chiều cao h:  7\n"
        },
        {
          "name": "stdout",
          "output_type": "stream",
          "text": "      *\n     ***\n    *****\n   *******\n  *********\n ***********\n*************\n"
        }
      ],
      "execution_count": 4
    },
    {
      "id": "065ad0ce-bd76-45e4-a689-6284ef3f0c88",
      "cell_type": "code",
      "source": "#bài 5\nn = int(input(\"Nhập số nguyên dương n: \"))\nS = 0\nfor i in range(1, n + 1):\n    S += i\nprint(\"Tổng S =\", S)",
      "metadata": {
        "trusted": true
      },
      "outputs": [
        {
          "output_type": "stream",
          "name": "stdin",
          "text": "Nhập số nguyên dương n:  6\n"
        },
        {
          "name": "stdout",
          "output_type": "stream",
          "text": "Tổng S = 21\n"
        }
      ],
      "execution_count": 5
    },
    {
      "id": "ee6c2563-e2bc-4f87-940b-9b201f5a0a49",
      "cell_type": "code",
      "source": "#bài 6\na = int(input(\"Nhập số nguyên dương a: \"))\nprint(\"Các ước dương của\", a, \"là:\", end=\" \")\nfor i in range(1, a + 1):\n    if a % i == 0:\n        print(i, end=\" \")",
      "metadata": {
        "trusted": true
      },
      "outputs": [
        {
          "output_type": "stream",
          "name": "stdin",
          "text": "Nhập số nguyên dương a:  5\n"
        },
        {
          "name": "stdout",
          "output_type": "stream",
          "text": "Các ước dương của 5 là: 1 5 "
        }
      ],
      "execution_count": 6
    },
    {
      "id": "54d03ed7-6c08-4308-8ad2-c579688b22c7",
      "cell_type": "code",
      "source": "#bài 7\na = int(input(\"Nhập số nguyên dương a: \"))\ncount = 0\nfor i in range(1, a + 1):\n    if a % i == 0:\n        count += 1\nprint(\"Số lượng ước dương của\", a, \"là:\", count)\n",
      "metadata": {
        "trusted": true
      },
      "outputs": [
        {
          "output_type": "stream",
          "name": "stdin",
          "text": "Nhập số nguyên dương a:  8\n"
        },
        {
          "name": "stdout",
          "output_type": "stream",
          "text": "Số lượng ước dương của 8 là: 4\n"
        }
      ],
      "execution_count": 7
    },
    {
      "id": "24d00b7d-8402-40ab-bac3-65dfe139308e",
      "cell_type": "code",
      "source": "#bài 8\na = int(input(\"Nhập số nguyên dương a: \"))\nb = int(input(\"Nhập số nguyên dương b: \"))\nprint(\"Các ước chung của\", a, \"và\", b, \"là:\", end=\" \")\nfor i in range(1, min(a, b) + 1):\n    if a % i == 0 and b % i == 0:\n        print(i, end=\" \")",
      "metadata": {
        "trusted": true
      },
      "outputs": [
        {
          "output_type": "stream",
          "name": "stdin",
          "text": "Nhập số nguyên dương a:  8\nNhập số nguyên dương b:  4\n"
        },
        {
          "name": "stdout",
          "output_type": "stream",
          "text": "Các ước chung của 8 và 4 là: 1 2 4 "
        }
      ],
      "execution_count": 8
    },
    {
      "id": "e25e205a-eeb8-4230-ab07-95a7c875fdd1",
      "cell_type": "code",
      "source": "#bài 9\nimport math\n\na = int(input(\"Nhập số nguyên dương a: \"))\nsqrt_a = int(math.sqrt(a))\nif sqrt_a * sqrt_a == a:\n    print(a, \"là số chính phương\")\nelse:\n    print(a, \"không phải là số chính phương\")",
      "metadata": {
        "trusted": true
      },
      "outputs": [
        {
          "output_type": "stream",
          "name": "stdin",
          "text": "Nhập số nguyên dương a:  9\n"
        },
        {
          "name": "stdout",
          "output_type": "stream",
          "text": "9 là số chính phương\n"
        }
      ],
      "execution_count": 9
    },
    {
      "id": "db718bdb-32e7-4d78-817f-81a94eaa0493",
      "cell_type": "code",
      "source": "#bài 10\na = int(input(\"Nhập số nguyên dương a: \"))\ntong_uoc = 0\nfor i in range(1, a):\n    if a % i == 0:\n        tong_uoc += i\n\nif tong_uoc == a:\n    print(a, \"là số hoàn hảo\")\nelse:\n    print(a, \"không phải là số hoàn hảo\")",
      "metadata": {
        "trusted": true
      },
      "outputs": [
        {
          "output_type": "stream",
          "name": "stdin",
          "text": "Nhập số nguyên dương a:  7\n"
        },
        {
          "name": "stdout",
          "output_type": "stream",
          "text": "7 không phải là số hoàn hảo\n"
        }
      ],
      "execution_count": 10
    },
    {
      "id": "de6ae155-c1ad-4c43-aa54-ae89e06b73b4",
      "cell_type": "code",
      "source": "#bài 11\nwhile True:\n    a = int(input(\"Nhập số nguyên a: \"))\n    if a > 0:\n        print(\"Bạn nhập đúng quy tắc\")\n        break\n    else:\n        print(\"Sai! Vui lòng nhập lại số nguyên dương.\")",
      "metadata": {
        "trusted": true
      },
      "outputs": [
        {
          "output_type": "stream",
          "name": "stdin",
          "text": "Nhập số nguyên a:  66\n"
        },
        {
          "name": "stdout",
          "output_type": "stream",
          "text": "Bạn nhập đúng quy tắc\n"
        }
      ],
      "execution_count": 11
    },
    {
      "id": "d05abe5f-ff20-4b09-a356-31ee5ed9e4b3",
      "cell_type": "code",
      "source": "#bài 15\nn = int(input(\"Nhập số nguyên dương n: \"))\ncount = 0\ntemp = n\nwhile temp > 0:\n    temp //= 10\n    count += 1\nprint(\"Số chữ số của n là:\", count)",
      "metadata": {
        "trusted": true
      },
      "outputs": [
        {
          "output_type": "stream",
          "name": "stdin",
          "text": "Nhập số nguyên dương n:  8\n"
        },
        {
          "name": "stdout",
          "output_type": "stream",
          "text": "Số chữ số của n là: 1\n"
        }
      ],
      "execution_count": 12
    },
    {
      "id": "91a7a444-9648-4f79-9c22-63a732db9217",
      "cell_type": "code",
      "source": "#bài 16\nn = int(input(\"Nhập số nguyên dương n: \"))\nchan = le = 0\ntemp = n\nwhile temp > 0:\n    cs = temp % 10\n    if cs % 2 == 0:\n        chan += 1\n    else:\n        le += 1\n    temp //= 10\nprint(\"Số chữ số chẵn:\", chan)\nprint(\"Số chữ số lẻ:\", le)",
      "metadata": {
        "trusted": true
      },
      "outputs": [
        {
          "output_type": "stream",
          "name": "stdin",
          "text": "Nhập số nguyên dương n:  90\n"
        },
        {
          "name": "stdout",
          "output_type": "stream",
          "text": "Số chữ số chẵn: 1\nSố chữ số lẻ: 1\n"
        }
      ],
      "execution_count": 13
    },
    {
      "id": "2d10b7f6-f3a6-4915-a1f5-986c62011dbe",
      "cell_type": "code",
      "source": "n = int(input(\"Nhập số nguyên dương n: \"))\ntong = 0\ntemp = n\nwhile temp > 0:\n    tong += temp % 10\n    temp //= 10\nprint(\"Tổng các chữ số của n là:\", tong)\n\n",
      "metadata": {
        "trusted": true
      },
      "outputs": [
        {
          "output_type": "stream",
          "name": "stdin",
          "text": "Nhập số nguyên dương n:  10\n"
        },
        {
          "name": "stdout",
          "output_type": "stream",
          "text": "Tổng các chữ số của n là: 1\n"
        }
      ],
      "execution_count": 14
    },
    {
      "id": "21ac9ae8-466a-41be-b65c-bb0227e2e8f0",
      "cell_type": "code",
      "source": "#bài 20\nn = int(input(\"Nhập số nguyên dương n: \"))\ncount = 0\ntemp = n\nwhile temp > 0:\n    cs = temp % 10\n    if cs in [2, 3, 5, 7]:\n        count += 1\n    temp //= 10\nprint(\"Số lượng chữ số nguyên tố của n là:\", count)",
      "metadata": {
        "trusted": true
      },
      "outputs": [
        {
          "output_type": "stream",
          "name": "stdin",
          "text": "Nhập số nguyên dương n:  80\n"
        },
        {
          "name": "stdout",
          "output_type": "stream",
          "text": "Số lượng chữ số nguyên tố của n là: 0\n"
        }
      ],
      "execution_count": 15
    },
    {
      "id": "5ef248db-63e4-4335-be36-091907c42cb2",
      "cell_type": "code",
      "source": "",
      "metadata": {
        "trusted": true
      },
      "outputs": [],
      "execution_count": null
    }
  ]
}