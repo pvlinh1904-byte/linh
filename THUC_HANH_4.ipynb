{
  "metadata": {
    "kernelspec": {
      "name": "xpython",
      "display_name": "Python 3.13 (XPython)",
      "language": "python"
    },
    "language_info": {
      "file_extension": ".py",
      "mimetype": "text/x-python",
      "name": "python",
      "version": "3.13.1"
    }
  },
  "nbformat_minor": 5,
  "nbformat": 4,
  "cells": [
    {
      "id": "95fb2772-656d-492c-b7ad-3106036120a7",
      "cell_type": "code",
      "source": "# factorial_python.py\nn = int(input().strip())\nif n < 0 or n >= 100:\n    raise ValueError(\"Yêu cầu: 0 < n < 100\")\n# nếu muốn cho phép 0, có thể đổi điều kiện thành 0 <= n < 100\n\nfact = 1\nfor i in range(2, n + 1):\n    fact *= i\n\nprint(fact)",
      "metadata": {
        "trusted": true
      },
      "outputs": [
        {
          "output_type": "stream",
          "name": "stdin",
          "text": " 6\n"
        },
        {
          "name": "stdout",
          "output_type": "stream",
          "text": "720\n"
        }
      ],
      "execution_count": 1
    },
    {
      "id": "44ed9c86-25c1-41f3-91fd-b0853d89585b",
      "cell_type": "code",
      "source": "#bai 2 W4A2\ntry:\n    n=int(input())\n    giaithua=1\n    for i in range ( 1,n+1):\n        giaithua=giaithua*i\n    print(giaithua)\nexcept ValueError:\n    print(\"ban nhap du lieu sai\")",
      "metadata": {
        "trusted": true
      },
      "outputs": [
        {
          "output_type": "stream",
          "name": "stdin",
          "text": " 9\n"
        },
        {
          "name": "stdout",
          "output_type": "stream",
          "text": "362880\n"
        }
      ],
      "execution_count": 4
    },
    {
      "id": "312c2acb-eff9-4a59-b87b-9f7a97b4a6e1",
      "cell_type": "code",
      "source": "#bai 3 W4A3\nn = 0\ntry:\n    n = int(input())\n    n = abs(n)\n    count = 0\n    for _ in range(10000):\n        if n > 0:  \n            count += 1\n            n //= 10\n        else:\n            break\n    print(count)\nexcept ValueError:\n    print(\"ban nhap sai du lieu\")",
      "metadata": {
        "trusted": true
      },
      "outputs": [
        {
          "output_type": "stream",
          "name": "stdin",
          "text": " 9\n"
        },
        {
          "name": "stdout",
          "output_type": "stream",
          "text": "1\n"
        }
      ],
      "execution_count": 6
    },
    {
      "id": "9b991032-e6e9-418a-ba62-c751dbdb1dae",
      "cell_type": "code",
      "source": "#bai 1 W4A1\ntry:\n    n = int(input())\n    flag = False\n    for _ in range(n):\n         a = int(input())\n         if a==42:\n             print(\"I've found the meaning of life\")\n             flag = True\n             break\n    if flag == False:\n        print(\"It's a joke\")\nexcept ValueError:\n    print(\"du lieu khong hop le\")",
      "metadata": {
        "trusted": true
      },
      "outputs": [
        {
          "output_type": "stream",
          "name": "stdin",
          "text": " 4\n 5\n 7\n 5\n 7\n"
        },
        {
          "name": "stdout",
          "output_type": "stream",
          "text": "It's a joke\n"
        }
      ],
      "execution_count": 8
    },
    {
      "id": "985a8750-92f8-4577-abc1-0810d44dcc84",
      "cell_type": "code",
      "source": "#bai 11 W4A11\nn = int(input(\"\"))\ndem = 1 if n%2==0 else 0\nfor i in range(2,n//2+1,2):\n    if n%i == 0:\n         print(i,end = \" \")\n         dem += 1\nprint(dem)",
      "metadata": {
        "trusted": true
      },
      "outputs": [
        {
          "output_type": "stream",
          "name": "stdin",
          "text": " 80\n"
        },
        {
          "name": "stdout",
          "output_type": "stream",
          "text": "2 4 8 10 16 20 40 8\n"
        }
      ],
      "execution_count": 14
    },
    {
      "id": "62211a53-860c-4644-b5ac-3910452d6f92",
      "cell_type": "code",
      "source": "#bai 12 W4A12\nx = int(input(\"nhap so tien gui: \"))\nn = int(input(\"so thang muon gui: \"))\n\nfor _ in range(n):\n    x = x*1.007\nprint(round(x))",
      "metadata": {
        "trusted": true
      },
      "outputs": [
        {
          "output_type": "stream",
          "name": "stdin",
          "text": "nhap so tien gui:  400000\nso thang muon gui:  5\n"
        },
        {
          "name": "stdout",
          "output_type": "stream",
          "text": "414197\n"
        }
      ],
      "execution_count": 15
    },
    {
      "id": "fd656c85-af19-4154-b3d6-844692d30485",
      "cell_type": "code",
      "source": "#W4A13\ntry:\n    a = int(input())\n    b = int(input())\n    tong_uoc_a = 0\n    for i in range(1, a//2+1):\n        if a % i == 0:\n            tong_uoc_a += i\n    tong_uoc_b = 0\n    for i in range(1, a//2+1):\n        if b % i == 0:\n            tong_uoc_b += i  \n    if tong_uoc_a == b and tong_uoc_b == a:\n        print(\"True\")\n    else:\n        print(\"False\")\nexcept ValueError:\n    print(\"ban nhap sai du lieu\")",
      "metadata": {
        "trusted": true
      },
      "outputs": [
        {
          "output_type": "stream",
          "name": "stdin",
          "text": " 56\n 4\n"
        },
        {
          "name": "stdout",
          "output_type": "stream",
          "text": "False\n"
        }
      ],
      "execution_count": 16
    },
    {
      "id": "cc7dc51f-bcb2-48bd-ab9c-1cd5eb2593a0",
      "cell_type": "code",
      "source": "#W4A14\nm = int(input())\nn = int(input())\na = m\nif n < m:\n    a = n\nfor i in range(1, a+1):\n    if m % i == 0 and n % i == 0:\n        ucln = i\nprint(ucln)\n\n#cach 2\nucln(5, 8) = ucln(5, 3) = ucln(2,3) = ucln(2,1) = ucln(1,1)\nlap khi 2 so khac nhau\nthay so lon hon bang hieu cua so lon hon - so nho hon\n\n",
      "metadata": {
        "trusted": true
      },
      "outputs": [
        {
          "output_type": "stream",
          "name": "stdin",
          "text": " 56\n 34\n"
        },
        {
          "name": "stdout",
          "output_type": "stream",
          "text": "2\n"
        }
      ],
      "execution_count": 18
    },
    {
      "id": "22c69d73-8f34-4c61-a44d-31ccce143fa4",
      "cell_type": "code",
      "source": "#W4A14\na, b = map(int, input().split())\nucln = 0\nfor _ in range(10000):\n    if(a * b == 0):\n        ucln = a + b\n        break\n    else:\n        if a > b:\n            a = a - b\n        else: \n            b = b - a\nprint(ucln)",
      "metadata": {
        "trusted": true
      },
      "outputs": [
        {
          "output_type": "stream",
          "name": "stdin",
          "text": " 6 8\n"
        },
        {
          "name": "stdout",
          "output_type": "stream",
          "text": "2\n"
        }
      ],
      "execution_count": 25
    },
    {
      "id": "86efa797-2382-4a4e-910a-d9261af68faa",
      "cell_type": "code",
      "source": "",
      "metadata": {
        "trusted": true
      },
      "outputs": [],
      "execution_count": null
    }
  ]
}