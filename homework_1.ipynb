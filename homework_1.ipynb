{
 "cells": [
  {
   "cell_type": "code",
   "execution_count": 1,
   "id": "9ad5fd0d-7d35-44f3-97d5-08267b5221ad",
   "metadata": {},
   "outputs": [
    {
     "name": "stdin",
     "output_type": "stream",
     "text": [
      "nhập số nguyên n: 9\n"
     ]
    },
    {
     "name": "stdout",
     "output_type": "stream",
     "text": [
      "số gấp đôi n: 18\n"
     ]
    }
   ],
   "source": [
    "#bài 1\n",
    "n = int(input(\"nhập số nguyên n:\"))\n",
    "print(\"số gấp đôi n:\", n * 2)"
   ]
  },
  {
   "cell_type": "code",
   "execution_count": 14,
   "id": "0dce819c-b056-45cf-8666-54404fcbadca",
   "metadata": {},
   "outputs": [
    {
     "name": "stdin",
     "output_type": "stream",
     "text": [
      "chiều rộng a: 9\n",
      "chiều dài b: 38\n"
     ]
    },
    {
     "name": "stdout",
     "output_type": "stream",
     "text": [
      "diện tích còn để trồng cây: 278.42\n"
     ]
    }
   ],
   "source": [
    "#bài 2\n",
    "a = float(input(\"chiều rộng a:\"))\n",
    "b = float(input(\"chiều dài b:\"))\n",
    "r = float(min(a,b)/2)\n",
    "s = a * b - 3.14 * r ** 2\n",
    "print(\"diện tích còn để trồng cây:\", round(s, 2))"
   ]
  },
  {
   "cell_type": "code",
   "execution_count": 17,
   "id": "3ba2d995-2988-481d-9633-443a723c0de2",
   "metadata": {},
   "outputs": [
    {
     "name": "stdin",
     "output_type": "stream",
     "text": [
      "Nhập một ký tự:  y\n"
     ]
    },
    {
     "name": "stdout",
     "output_type": "stream",
     "text": [
      "Chữ hoa tương ứng là: Y\n"
     ]
    }
   ],
   "source": [
    "#bài 3\n",
    "c = input(\"Nhập một ký tự: \")\n",
    "\n",
    "if c.isupper():\n",
    "    print(\"Chữ thường tương ứng là:\", c.lower())\n",
    "elif c.islower():\n",
    "    print(\"Chữ hoa tương ứng là:\", c.upper())\n",
    "else:\n",
    "    print(\"Ký tự không phải chữ cái.\")\n"
   ]
  },
  {
   "cell_type": "code",
   "execution_count": 21,
   "id": "aae127f2-3f9f-4a59-a8c1-25bb7746c8a5",
   "metadata": {},
   "outputs": [
    {
     "name": "stdin",
     "output_type": "stream",
     "text": [
      "Nhập một ký tự:  1\n"
     ]
    },
    {
     "name": "stdout",
     "output_type": "stream",
     "text": [
      "1 không phải là ký tự alphabet\n"
     ]
    }
   ],
   "source": [
    "#bài 4\n",
    "c = input(\"Nhập một ký tự: \")\n",
    "\n",
    "if c.isalpha():\n",
    "    print(f\"{c} là ký tự alphabet\")\n",
    "else:\n",
    "    print(f\"{c} không phải là ký tự alphabet\")"
   ]
  },
  {
   "cell_type": "code",
   "execution_count": 22,
   "id": "6e1ce29b-37c9-4b5d-960b-5d98797db81e",
   "metadata": {},
   "outputs": [
    {
     "name": "stdin",
     "output_type": "stream",
     "text": [
      "Nhập một chữ cái hoa:  M\n"
     ]
    },
    {
     "name": "stdout",
     "output_type": "stream",
     "text": [
      "Chữ thường liền trước là: l\n"
     ]
    }
   ],
   "source": [
    "#bài 5\n",
    "c = input(\"Nhập một chữ cái hoa: \")\n",
    "\n",
    "if c.isupper():\n",
    "    if c == 'A':\n",
    "        print(\"Không có chữ cái thường liền trước 'a'\")\n",
    "    else:\n",
    "        char_thuong = c.lower()\n",
    "        char_truoc = chr(ord(char_thuong) - 1)\n",
    "        print(\"Chữ thường liền trước là:\", char_truoc)\n",
    "else:\n",
    "    print(\"Ký tự nhập không phải chữ cái hoa.\")\n"
   ]
  },
  {
   "cell_type": "code",
   "execution_count": 23,
   "id": "976100bb-a52b-47b3-a8e7-c1d1017bd71b",
   "metadata": {},
   "outputs": [
    {
     "name": "stdin",
     "output_type": "stream",
     "text": [
      "Nhập cạnh a:  3\n",
      "Nhập cạnh b:  4\n",
      "Nhập cạnh c:  5\n"
     ]
    },
    {
     "name": "stdout",
     "output_type": "stream",
     "text": [
      "Diện tích tam giác là: 6.0\n"
     ]
    }
   ],
   "source": [
    "#bài 6\n",
    "\n",
    "a = float(input(\"Nhập cạnh a: \"))\n",
    "b = float(input(\"Nhập cạnh b: \"))\n",
    "c = float(input(\"Nhập cạnh c: \"))\n",
    "\n",
    "# Kiểm tra điều kiện tam giác\n",
    "if a + b > c and a + c > b and b + c > a:\n",
    "    p = (a + b + c) / 2\n",
    "    dientich = (p * (p - a) * (p - b) * (p - c)) ** 0.5\n",
    "    print(\"Diện tích tam giác là: {:.1f}\".format(dientich))\n",
    "else:\n",
    "    print(\"Không phải 3 cạnh của tam giác\")"
   ]
  },
  {
   "cell_type": "code",
   "execution_count": 24,
   "id": "7c97106e-d3f8-42b1-a4c8-77c04f3732aa",
   "metadata": {},
   "outputs": [
    {
     "name": "stdin",
     "output_type": "stream",
     "text": [
      "Nhập chuỗi ký tự thường (độ dài >= 20):  eyrhdyryfdjhaiheruhdfiier\n"
     ]
    },
    {
     "name": "stdout",
     "output_type": "stream",
     "text": [
      "Ký tự thứ 5: d\n",
      "Ký tự thứ 9: f\n"
     ]
    }
   ],
   "source": [
    "#bài 7\n",
    "s = input(\"Nhập chuỗi ký tự thường (độ dài >= 20): \")\n",
    "\n",
    "if len(s) >= 20:\n",
    "    print(\"Ký tự thứ 5:\", s[4])  # Vị trí thứ 5 là index 4\n",
    "    print(\"Ký tự thứ 9:\", s[8])  # Vị trí thứ 9 là index 8\n",
    "else:\n",
    "    print(\"Chuỗi quá ngắn. Phải có ít nhất 20 ký tự.\")\n"
   ]
  },
  {
   "cell_type": "code",
   "execution_count": null,
   "id": "842e4f3e-719d-4d14-a1fb-396c19e4569b",
   "metadata": {},
   "outputs": [],
   "source": []
  }
 ],
 "metadata": {
  "kernelspec": {
   "display_name": "anaconda-2024.02-py310",
   "language": "python",
   "name": "conda-env-anaconda-2024.02-py310-py"
  },
  "language_info": {
   "codemirror_mode": {
    "name": "ipython",
    "version": 3
   },
   "file_extension": ".py",
   "mimetype": "text/x-python",
   "name": "python",
   "nbconvert_exporter": "python",
   "pygments_lexer": "ipython3",
   "version": "3.10.14"
  }
 },
 "nbformat": 4,
 "nbformat_minor": 5
}
