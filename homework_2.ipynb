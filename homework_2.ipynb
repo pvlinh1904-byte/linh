{
 "cells": [
  {
   "cell_type": "code",
   "execution_count": 5,
   "id": "b296c24d-fefa-4f08-949d-87e87f702b43",
   "metadata": {},
   "outputs": [
    {
     "name": "stdin",
     "output_type": "stream",
     "text": [
      "cạnh của hình chữ nhật 9\n",
      "cạnh của hình chữ nhật 5\n"
     ]
    },
    {
     "name": "stdout",
     "output_type": "stream",
     "text": [
      "diện tích: 45.0\n",
      "chu vi: 28.0\n"
     ]
    }
   ],
   "source": [
    "#bài 1\n",
    "a = float(input(\"cạnh của hình chữ nhật\"))\n",
    "b = float(input(\"cạnh của hình chữ nhật\"))\n",
    "s = a * b\n",
    "c = (a + b) * 2\n",
    "print(\"diện tích:\" ,s)\n",
    "print(\"chu vi:\" ,c)"
   ]
  },
  {
   "cell_type": "code",
   "execution_count": 12,
   "id": "8c7048f5-8ddb-4968-8ba7-29d354408783",
   "metadata": {},
   "outputs": [
    {
     "name": "stdin",
     "output_type": "stream",
     "text": [
      "bán kính: 7\n"
     ]
    },
    {
     "name": "stdout",
     "output_type": "stream",
     "text": [
      "chu vi: 21.98 diện tích: 153.86\n"
     ]
    }
   ],
   "source": [
    "#bài 2\n",
    "r = float(input(\"bán kính:\"))\n",
    "c = 3.14 * r\n",
    "s = 3.14 * r**2\n",
    "print(\"chu vi:\" ,round(c ,2) , \"diện tích:\" ,round(s ,2))"
   ]
  },
  {
   "cell_type": "code",
   "execution_count": 35,
   "id": "953a4ef0-714f-41db-aebd-99db9686e563",
   "metadata": {},
   "outputs": [
    {
     "name": "stdin",
     "output_type": "stream",
     "text": [
      "độ dài 3 cạnh: 3 3 3 \n"
     ]
    },
    {
     "name": "stdout",
     "output_type": "stream",
     "text": [
      "tam giác\n",
      "tam giác đều\n",
      "không là ba cạnh của tam giác\n"
     ]
    }
   ],
   "source": [
    "a,b,c = map(float, input(\"độ dài 3 cạnh:\").split())\n",
    "if a + b > c or a + c > b or b + c > a:\n",
    "    print( \"tam giác\")\n",
    "if a**2 + b**2 == c**2 or a**2 == b**2 + c**2  or a**2 + c**2 == b**2:\n",
    "    print(\"hình vuông\")\n",
    "if a == b ==c:\n",
    "    print(\"tam giác đều\")\n",
    "if a == b > c or a == c > b or b == c > a:\n",
    "    print(\"cân\")\n",
    "else:\n",
    "    print(\"không là ba cạnh của tam giác\")"
   ]
  },
  {
   "cell_type": "code",
   "execution_count": 25,
   "id": "e15198f6-c9ba-48ba-9f25-9790123cc943",
   "metadata": {},
   "outputs": [
    {
     "name": "stdin",
     "output_type": "stream",
     "text": [
      "nhập số: 2 3 4 5\n"
     ]
    },
    {
     "name": "stdout",
     "output_type": "stream",
     "text": [
      "5.0\n"
     ]
    }
   ],
   "source": [
    "#bài 6\n",
    "a , b , c , d = map(float, input(\"nhập số:\").split())\n",
    "e = max(a,b,c,d)\n",
    "print(e)"
   ]
  },
  {
   "cell_type": "code",
   "execution_count": 4,
   "id": "2083d23f-c525-4156-b701-b43964f63f07",
   "metadata": {},
   "outputs": [
    {
     "name": "stdin",
     "output_type": "stream",
     "text": [
      "nhập số: 3 4 5 6 \n"
     ]
    },
    {
     "name": "stdout",
     "output_type": "stream",
     "text": [
      "3.0\n"
     ]
    }
   ],
   "source": [
    "#bài 7\n",
    "a , b , c , d = map(float, input(\"nhập số:\").split())\n",
    "e = min(a,b,c,d)\n",
    "print(e)"
   ]
  },
  {
   "cell_type": "code",
   "execution_count": 5,
   "id": "8970ecec-8c1a-4cd7-8b88-22c65398344d",
   "metadata": {},
   "outputs": [
    {
     "name": "stdout",
     "output_type": "stream",
     "text": [
      "('1 nghiệm', 2.0)\n"
     ]
    }
   ],
   "source": [
    "#bài 4\n",
    "def solve_linear(a, b):\n",
    "    if a != 0:\n",
    "        return (\"1 nghiệm\", -b / a)\n",
    "    else:\n",
    "        if b == 0:\n",
    "            return (\"vô số nghiệm\", None)\n",
    "        else:\n",
    "            return (\"vô nghiệm\", None)\n",
    "print(solve_linear(2, -4))"
   ]
  },
  {
   "cell_type": "code",
   "execution_count": 6,
   "id": "5d2ddda9-c9a5-42ce-b6c9-0915335f953e",
   "metadata": {},
   "outputs": [
    {
     "name": "stdout",
     "output_type": "stream",
     "text": [
      "('2 nghiệm thực', (2.0, 1.0))\n"
     ]
    }
   ],
   "source": [
    "#bài 5\n",
    "import math\n",
    "\n",
    "def solve_quadratic(a, b, c):\n",
    "    if a == 0:\n",
    "        # giảm thành phương trình bậc 1\n",
    "        if b != 0:\n",
    "            return (\"bậc 1\", -c / b)\n",
    "        else:\n",
    "            if c == 0:\n",
    "                return (\"vô số nghiệm\", None)\n",
    "            else:\n",
    "                return (\"vô nghiệm\", None)\n",
    "    D = b*b - 4*a*c\n",
    "    if D > 0:\n",
    "        x1 = (-b + math.sqrt(D)) / (2*a)\n",
    "        x2 = (-b - math.sqrt(D)) / (2*a)\n",
    "        return (\"2 nghiệm thực\", (x1, x2))\n",
    "    elif D == 0:\n",
    "        x = -b / (2*a)\n",
    "        return (\"nghiệm kép\", x)\n",
    "    else:\n",
    "        # nghiệm phức\n",
    "        real = -b / (2*a)\n",
    "        imag = math.sqrt(-D) / (2*a)\n",
    "        return (\"2 nghiệm phức\", (complex(real, imag), complex(real, -imag)))\n",
    "print(solve_quadratic(1, -3, 2))"
   ]
  },
  {
   "cell_type": "code",
   "execution_count": 7,
   "id": "03060879-9945-494b-a6b3-ed5e0f4da3cc",
   "metadata": {},
   "outputs": [
    {
     "name": "stdin",
     "output_type": "stream",
     "text": [
      "Nhập số giây:  60\n"
     ]
    },
    {
     "name": "stdout",
     "output_type": "stream",
     "text": [
      "60 giây = 0 giờ 1 phút 0 giây\n"
     ]
    }
   ],
   "source": [
    "#bài 9\n",
    "def convert_time(x):\n",
    "    hours = x // 3600\n",
    "    minutes = (x % 3600) // 60\n",
    "    seconds = x % 60\n",
    "    return hours, minutes, seconds\n",
    "\n",
    "# Chương trình chính\n",
    "x = int(input(\"Nhập số giây: \"))\n",
    "h, m, s = convert_time(x)\n",
    "print(f\"{x} giây = {h} giờ {m} phút {s} giây\")\n"
   ]
  },
  {
   "cell_type": "code",
   "execution_count": null,
   "id": "61db08c5-77ea-4424-a160-23a2fb740c04",
   "metadata": {},
   "outputs": [],
   "source": []
  }
 ],
 "metadata": {
  "kernelspec": {
   "display_name": "anaconda-2024.02-py310",
   "language": "python",
   "name": "conda-env-anaconda-2024.02-py310-py"
  },
  "language_info": {
   "codemirror_mode": {
    "name": "ipython",
    "version": 3
   },
   "file_extension": ".py",
   "mimetype": "text/x-python",
   "name": "python",
   "nbconvert_exporter": "python",
   "pygments_lexer": "ipython3",
   "version": "3.10.14"
  }
 },
 "nbformat": 4,
 "nbformat_minor": 5
}
